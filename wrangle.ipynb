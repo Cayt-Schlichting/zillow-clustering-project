{
 "cells": [
  {
   "cell_type": "code",
   "execution_count": 1,
   "id": "67cba076",
   "metadata": {},
   "outputs": [],
   "source": [
    "import numpy as np\n",
    "import pandas as pd\n",
    "import os\n",
    "\n",
    "import matplotlib.pyplot as plt\n",
    "import seaborn as sns\n",
    "\n",
    "from sklearn.model_selection import train_test_split\n",
    "\n",
    "from env import host, username, password\n",
    "import utils"
   ]
  },
  {
   "cell_type": "markdown",
   "id": "fe00c7dd",
   "metadata": {},
   "source": [
    "## Acquire and Summarize Data\n",
    "\n",
    "- Acquired data requirements:\n",
    "  - join all tables\n",
    "  - only properties with transaction in 2017\n",
    "  - ensure no duplicate property ids >> use latest transaction date\n",
    "  - properties must contain latitude and longitude"
   ]
  },
  {
   "cell_type": "code",
   "execution_count": 2,
   "id": "09cdf7c9",
   "metadata": {},
   "outputs": [],
   "source": [
    "#Function to create database url.  Requires local env.py with host, username and password. \n",
    "# No function help text provided as we don't want the user to access it and display their password on the screen\n",
    "def get_db_url(db_name,user=username,password=password,host=host):\n",
    "    url = f'mysql+pymysql://{user}:{password}@{host}/{db_name}'\n",
    "    return url\n",
    "\n",
    "#Function to get new data from Codeup server\n",
    "def getNewZillowData():\n",
    "    \"\"\"\n",
    "    Retrieves zillow dataset from Codeup DB and stores a local csv file\n",
    "    Returns: Pandas dataframe\n",
    "    \"\"\"\n",
    "    db_name= 'zillow'\n",
    "    filename='zillow.csv'\n",
    "    sql = \"\"\"\n",
    "    SELECT *\n",
    "    FROM properties_2017\n",
    "        JOIN predictions_2017 USING(parcelid)\n",
    "        LEFT JOIN airconditioningtype USING(airconditioningtypeid)\n",
    "        LEFT JOIN architecturalstyletype USING(architecturalstyletypeid)\n",
    "        LEFT JOIN buildingclasstype USING(buildingclasstypeid)\n",
    "        LEFT JOIN heatingorsystemtype USING (heatingorsystemtypeid)\n",
    "        LEFT JOIN propertylandusetype USING (propertylandusetypeid)\n",
    "        LEFT JOIN storytype USING (storytypeid)\n",
    "        LEFT JOIN typeconstructiontype USING (typeconstructiontypeid)\n",
    "    WHERE transactiondate LIKE '2017%%' \n",
    "        AND latitude IS NOT NULL\n",
    "        AND longitude IS NOT NULL;\n",
    "    \"\"\"\n",
    "    #Read SQL from file\n",
    "    df = pd.read_sql(sql,get_db_url(db_name))\n",
    "    #Drop ID columns\n",
    "    df.drop(columns=['id'],inplace=True)\n",
    "    #write to disk - writes index as col 0:\n",
    "    df.to_csv(filename)\n",
    "    return df\n",
    "\n",
    "#Function to get data from local file or Codeup server \n",
    "def getZillowData():\n",
    "    \"\"\"\n",
    "    Retrieves Zillow dataset from working directory or Codeup DB. Stores a local copy if one did not exist.\n",
    "    Returns: Pandas dataframe of zillow data\n",
    "    \"\"\"\n",
    "    #Set filename\n",
    "    filename = 'zillow.csv'\n",
    "\n",
    "    if os.path.isfile(filename): #check if file exists in WD\n",
    "        #grab data, set first column as index\n",
    "        return pd.read_csv(filename,index_col=[0])\n",
    "    else: #Get data from SQL db\n",
    "        df = getNewZillowData()\n",
    "    return df"
   ]
  },
  {
   "cell_type": "code",
   "execution_count": 3,
   "id": "0cd8d707",
   "metadata": {},
   "outputs": [
    {
     "name": "stderr",
     "output_type": "stream",
     "text": [
      "/var/folders/dn/dr6y15951wq03xbh2xr9khq40000gn/T/ipykernel_78544/1610253724.py:1: DtypeWarning: Columns (63) have mixed types.Specify dtype option on import or set low_memory=False.\n",
      "  df = getZillowData()\n"
     ]
    }
   ],
   "source": [
    "df = getZillowData()"
   ]
  },
  {
   "cell_type": "code",
   "execution_count": 4,
   "id": "29785770",
   "metadata": {},
   "outputs": [
    {
     "data": {
      "text/plain": [
       "(77579, 67)"
      ]
     },
     "execution_count": 4,
     "metadata": {},
     "output_type": "execute_result"
    }
   ],
   "source": [
    "df.shape"
   ]
  },
  {
   "cell_type": "code",
   "execution_count": 5,
   "id": "fbbb05ba",
   "metadata": {},
   "outputs": [
    {
     "name": "stdout",
     "output_type": "stream",
     "text": [
      "<class 'pandas.core.frame.DataFrame'>\n",
      "Int64Index: 77579 entries, 0 to 77578\n",
      "Data columns (total 67 columns):\n",
      " #   Column                        Non-Null Count  Dtype  \n",
      "---  ------                        --------------  -----  \n",
      " 0   typeconstructiontypeid        223 non-null    float64\n",
      " 1   storytypeid                   50 non-null     float64\n",
      " 2   propertylandusetypeid         77579 non-null  float64\n",
      " 3   heatingorsystemtypeid         49571 non-null  float64\n",
      " 4   buildingclasstypeid           15 non-null     float64\n",
      " 5   architecturalstyletypeid      207 non-null    float64\n",
      " 6   airconditioningtypeid         25007 non-null  float64\n",
      " 7   parcelid                      77579 non-null  int64  \n",
      " 8   basementsqft                  50 non-null     float64\n",
      " 9   bathroomcnt                   77579 non-null  float64\n",
      " 10  bedroomcnt                    77579 non-null  float64\n",
      " 11  buildingqualitytypeid         49809 non-null  float64\n",
      " 12  calculatedbathnbr             76963 non-null  float64\n",
      " 13  decktypeid                    614 non-null    float64\n",
      " 14  finishedfloor1squarefeet      6037 non-null   float64\n",
      " 15  calculatedfinishedsquarefeet  77378 non-null  float64\n",
      " 16  finishedsquarefeet12          73923 non-null  float64\n",
      " 17  finishedsquarefeet13          42 non-null     float64\n",
      " 18  finishedsquarefeet15          3027 non-null   float64\n",
      " 19  finishedsquarefeet50          6037 non-null   float64\n",
      " 20  finishedsquarefeet6           386 non-null    float64\n",
      " 21  fips                          77579 non-null  float64\n",
      " 22  fireplacecnt                  8289 non-null   float64\n",
      " 23  fullbathcnt                   76963 non-null  float64\n",
      " 24  garagecarcnt                  25520 non-null  float64\n",
      " 25  garagetotalsqft               25520 non-null  float64\n",
      " 26  hashottuborspa                1539 non-null   float64\n",
      " 27  latitude                      77579 non-null  float64\n",
      " 28  longitude                     77579 non-null  float64\n",
      " 29  lotsizesquarefeet             69321 non-null  float64\n",
      " 30  poolcnt                       16174 non-null  float64\n",
      " 31  poolsizesum                   869 non-null    float64\n",
      " 32  pooltypeid10                  465 non-null    float64\n",
      " 33  pooltypeid2                   1074 non-null   float64\n",
      " 34  pooltypeid7                   15079 non-null  float64\n",
      " 35  propertycountylandusecode     77579 non-null  object \n",
      " 36  propertyzoningdesc            50476 non-null  object \n",
      " 37  rawcensustractandblock        77579 non-null  float64\n",
      " 38  regionidcity                  76107 non-null  float64\n",
      " 39  regionidcounty                77579 non-null  float64\n",
      " 40  regionidneighborhood          30974 non-null  float64\n",
      " 41  regionidzip                   77529 non-null  float64\n",
      " 42  roomcnt                       77579 non-null  float64\n",
      " 43  threequarterbathnbr           10106 non-null  float64\n",
      " 44  unitcnt                       50703 non-null  float64\n",
      " 45  yardbuildingsqft17            2393 non-null   float64\n",
      " 46  yardbuildingsqft26            70 non-null     float64\n",
      " 47  yearbuilt                     77309 non-null  float64\n",
      " 48  numberofstories               17599 non-null  float64\n",
      " 49  fireplaceflag                 172 non-null    float64\n",
      " 50  structuretaxvaluedollarcnt    77464 non-null  float64\n",
      " 51  taxvaluedollarcnt             77578 non-null  float64\n",
      " 52  assessmentyear                77579 non-null  float64\n",
      " 53  landtaxvaluedollarcnt         77577 non-null  float64\n",
      " 54  taxamount                     77574 non-null  float64\n",
      " 55  taxdelinquencyflag            2900 non-null   object \n",
      " 56  taxdelinquencyyear            2900 non-null   float64\n",
      " 57  censustractandblock           77332 non-null  float64\n",
      " 58  logerror                      77579 non-null  float64\n",
      " 59  transactiondate               77579 non-null  object \n",
      " 60  airconditioningdesc           25007 non-null  object \n",
      " 61  architecturalstyledesc        207 non-null    object \n",
      " 62  buildingclassdesc             15 non-null     object \n",
      " 63  heatingorsystemdesc           49571 non-null  object \n",
      " 64  propertylandusedesc           77579 non-null  object \n",
      " 65  storydesc                     50 non-null     object \n",
      " 66  typeconstructiondesc          223 non-null    object \n",
      "dtypes: float64(55), int64(1), object(11)\n",
      "memory usage: 40.2+ MB\n"
     ]
    }
   ],
   "source": [
    "df.info()"
   ]
  },
  {
   "cell_type": "code",
   "execution_count": 6,
   "id": "525020b8",
   "metadata": {},
   "outputs": [
    {
     "data": {
      "text/html": [
       "<div>\n",
       "<style scoped>\n",
       "    .dataframe tbody tr th:only-of-type {\n",
       "        vertical-align: middle;\n",
       "    }\n",
       "\n",
       "    .dataframe tbody tr th {\n",
       "        vertical-align: top;\n",
       "    }\n",
       "\n",
       "    .dataframe thead th {\n",
       "        text-align: right;\n",
       "    }\n",
       "</style>\n",
       "<table border=\"1\" class=\"dataframe\">\n",
       "  <thead>\n",
       "    <tr style=\"text-align: right;\">\n",
       "      <th></th>\n",
       "      <th>typeconstructiontypeid</th>\n",
       "      <th>storytypeid</th>\n",
       "      <th>propertylandusetypeid</th>\n",
       "      <th>heatingorsystemtypeid</th>\n",
       "      <th>buildingclasstypeid</th>\n",
       "      <th>architecturalstyletypeid</th>\n",
       "      <th>airconditioningtypeid</th>\n",
       "      <th>parcelid</th>\n",
       "      <th>basementsqft</th>\n",
       "      <th>bathroomcnt</th>\n",
       "      <th>...</th>\n",
       "      <th>numberofstories</th>\n",
       "      <th>fireplaceflag</th>\n",
       "      <th>structuretaxvaluedollarcnt</th>\n",
       "      <th>taxvaluedollarcnt</th>\n",
       "      <th>assessmentyear</th>\n",
       "      <th>landtaxvaluedollarcnt</th>\n",
       "      <th>taxamount</th>\n",
       "      <th>taxdelinquencyyear</th>\n",
       "      <th>censustractandblock</th>\n",
       "      <th>logerror</th>\n",
       "    </tr>\n",
       "  </thead>\n",
       "  <tbody>\n",
       "    <tr>\n",
       "      <th>count</th>\n",
       "      <td>223.000000</td>\n",
       "      <td>50.0</td>\n",
       "      <td>77579.000000</td>\n",
       "      <td>49571.000000</td>\n",
       "      <td>15.000000</td>\n",
       "      <td>207.000000</td>\n",
       "      <td>25007.000000</td>\n",
       "      <td>7.757900e+04</td>\n",
       "      <td>50.000000</td>\n",
       "      <td>77579.000000</td>\n",
       "      <td>...</td>\n",
       "      <td>17599.000000</td>\n",
       "      <td>172.0</td>\n",
       "      <td>7.746400e+04</td>\n",
       "      <td>7.757800e+04</td>\n",
       "      <td>77579.0</td>\n",
       "      <td>7.757700e+04</td>\n",
       "      <td>77574.000000</td>\n",
       "      <td>2900.000000</td>\n",
       "      <td>7.733200e+04</td>\n",
       "      <td>77579.000000</td>\n",
       "    </tr>\n",
       "    <tr>\n",
       "      <th>mean</th>\n",
       "      <td>6.040359</td>\n",
       "      <td>7.0</td>\n",
       "      <td>261.824476</td>\n",
       "      <td>3.921749</td>\n",
       "      <td>3.933333</td>\n",
       "      <td>7.386473</td>\n",
       "      <td>1.812013</td>\n",
       "      <td>1.300828e+07</td>\n",
       "      <td>679.720000</td>\n",
       "      <td>2.298496</td>\n",
       "      <td>...</td>\n",
       "      <td>1.434286</td>\n",
       "      <td>1.0</td>\n",
       "      <td>1.892811e+05</td>\n",
       "      <td>4.901506e+05</td>\n",
       "      <td>2016.0</td>\n",
       "      <td>3.011515e+05</td>\n",
       "      <td>5995.961788</td>\n",
       "      <td>14.088276</td>\n",
       "      <td>6.049667e+13</td>\n",
       "      <td>0.016803</td>\n",
       "    </tr>\n",
       "    <tr>\n",
       "      <th>std</th>\n",
       "      <td>0.556035</td>\n",
       "      <td>0.0</td>\n",
       "      <td>5.141596</td>\n",
       "      <td>3.594780</td>\n",
       "      <td>0.258199</td>\n",
       "      <td>2.728030</td>\n",
       "      <td>2.965768</td>\n",
       "      <td>3.519399e+06</td>\n",
       "      <td>689.703546</td>\n",
       "      <td>0.996732</td>\n",
       "      <td>...</td>\n",
       "      <td>0.544515</td>\n",
       "      <td>0.0</td>\n",
       "      <td>2.304107e+05</td>\n",
       "      <td>6.537979e+05</td>\n",
       "      <td>0.0</td>\n",
       "      <td>4.927249e+05</td>\n",
       "      <td>7628.859728</td>\n",
       "      <td>2.181281</td>\n",
       "      <td>1.533339e+12</td>\n",
       "      <td>0.170738</td>\n",
       "    </tr>\n",
       "    <tr>\n",
       "      <th>min</th>\n",
       "      <td>4.000000</td>\n",
       "      <td>7.0</td>\n",
       "      <td>31.000000</td>\n",
       "      <td>1.000000</td>\n",
       "      <td>3.000000</td>\n",
       "      <td>2.000000</td>\n",
       "      <td>1.000000</td>\n",
       "      <td>1.071186e+07</td>\n",
       "      <td>38.000000</td>\n",
       "      <td>0.000000</td>\n",
       "      <td>...</td>\n",
       "      <td>1.000000</td>\n",
       "      <td>1.0</td>\n",
       "      <td>4.400000e+01</td>\n",
       "      <td>1.000000e+03</td>\n",
       "      <td>2016.0</td>\n",
       "      <td>1.610000e+02</td>\n",
       "      <td>19.920000</td>\n",
       "      <td>3.000000</td>\n",
       "      <td>6.037101e+13</td>\n",
       "      <td>-4.655420</td>\n",
       "    </tr>\n",
       "    <tr>\n",
       "      <th>25%</th>\n",
       "      <td>6.000000</td>\n",
       "      <td>7.0</td>\n",
       "      <td>261.000000</td>\n",
       "      <td>2.000000</td>\n",
       "      <td>4.000000</td>\n",
       "      <td>7.000000</td>\n",
       "      <td>1.000000</td>\n",
       "      <td>1.153820e+07</td>\n",
       "      <td>273.000000</td>\n",
       "      <td>2.000000</td>\n",
       "      <td>...</td>\n",
       "      <td>1.000000</td>\n",
       "      <td>1.0</td>\n",
       "      <td>8.417925e+04</td>\n",
       "      <td>2.068985e+05</td>\n",
       "      <td>2016.0</td>\n",
       "      <td>8.529300e+04</td>\n",
       "      <td>2712.630000</td>\n",
       "      <td>14.000000</td>\n",
       "      <td>6.037311e+13</td>\n",
       "      <td>-0.024309</td>\n",
       "    </tr>\n",
       "    <tr>\n",
       "      <th>50%</th>\n",
       "      <td>6.000000</td>\n",
       "      <td>7.0</td>\n",
       "      <td>261.000000</td>\n",
       "      <td>2.000000</td>\n",
       "      <td>4.000000</td>\n",
       "      <td>7.000000</td>\n",
       "      <td>1.000000</td>\n",
       "      <td>1.253054e+07</td>\n",
       "      <td>515.000000</td>\n",
       "      <td>2.000000</td>\n",
       "      <td>...</td>\n",
       "      <td>1.000000</td>\n",
       "      <td>1.0</td>\n",
       "      <td>1.364045e+05</td>\n",
       "      <td>3.588785e+05</td>\n",
       "      <td>2016.0</td>\n",
       "      <td>2.031880e+05</td>\n",
       "      <td>4448.265000</td>\n",
       "      <td>15.000000</td>\n",
       "      <td>6.037603e+13</td>\n",
       "      <td>0.006676</td>\n",
       "    </tr>\n",
       "    <tr>\n",
       "      <th>75%</th>\n",
       "      <td>6.000000</td>\n",
       "      <td>7.0</td>\n",
       "      <td>266.000000</td>\n",
       "      <td>7.000000</td>\n",
       "      <td>4.000000</td>\n",
       "      <td>7.000000</td>\n",
       "      <td>1.000000</td>\n",
       "      <td>1.421136e+07</td>\n",
       "      <td>796.500000</td>\n",
       "      <td>3.000000</td>\n",
       "      <td>...</td>\n",
       "      <td>2.000000</td>\n",
       "      <td>1.0</td>\n",
       "      <td>2.187340e+05</td>\n",
       "      <td>5.690000e+05</td>\n",
       "      <td>2016.0</td>\n",
       "      <td>3.667530e+05</td>\n",
       "      <td>6926.917500</td>\n",
       "      <td>15.000000</td>\n",
       "      <td>6.059042e+13</td>\n",
       "      <td>0.039291</td>\n",
       "    </tr>\n",
       "    <tr>\n",
       "      <th>max</th>\n",
       "      <td>13.000000</td>\n",
       "      <td>7.0</td>\n",
       "      <td>275.000000</td>\n",
       "      <td>24.000000</td>\n",
       "      <td>4.000000</td>\n",
       "      <td>21.000000</td>\n",
       "      <td>13.000000</td>\n",
       "      <td>1.676893e+08</td>\n",
       "      <td>3560.000000</td>\n",
       "      <td>18.000000</td>\n",
       "      <td>...</td>\n",
       "      <td>6.000000</td>\n",
       "      <td>1.0</td>\n",
       "      <td>1.142179e+07</td>\n",
       "      <td>4.906124e+07</td>\n",
       "      <td>2016.0</td>\n",
       "      <td>4.895220e+07</td>\n",
       "      <td>586639.300000</td>\n",
       "      <td>99.000000</td>\n",
       "      <td>4.830301e+14</td>\n",
       "      <td>5.262999</td>\n",
       "    </tr>\n",
       "  </tbody>\n",
       "</table>\n",
       "<p>8 rows × 56 columns</p>\n",
       "</div>"
      ],
      "text/plain": [
       "       typeconstructiontypeid  storytypeid  propertylandusetypeid  \\\n",
       "count              223.000000         50.0           77579.000000   \n",
       "mean                 6.040359          7.0             261.824476   \n",
       "std                  0.556035          0.0               5.141596   \n",
       "min                  4.000000          7.0              31.000000   \n",
       "25%                  6.000000          7.0             261.000000   \n",
       "50%                  6.000000          7.0             261.000000   \n",
       "75%                  6.000000          7.0             266.000000   \n",
       "max                 13.000000          7.0             275.000000   \n",
       "\n",
       "       heatingorsystemtypeid  buildingclasstypeid  architecturalstyletypeid  \\\n",
       "count           49571.000000            15.000000                207.000000   \n",
       "mean                3.921749             3.933333                  7.386473   \n",
       "std                 3.594780             0.258199                  2.728030   \n",
       "min                 1.000000             3.000000                  2.000000   \n",
       "25%                 2.000000             4.000000                  7.000000   \n",
       "50%                 2.000000             4.000000                  7.000000   \n",
       "75%                 7.000000             4.000000                  7.000000   \n",
       "max                24.000000             4.000000                 21.000000   \n",
       "\n",
       "       airconditioningtypeid      parcelid  basementsqft   bathroomcnt  ...  \\\n",
       "count           25007.000000  7.757900e+04     50.000000  77579.000000  ...   \n",
       "mean                1.812013  1.300828e+07    679.720000      2.298496  ...   \n",
       "std                 2.965768  3.519399e+06    689.703546      0.996732  ...   \n",
       "min                 1.000000  1.071186e+07     38.000000      0.000000  ...   \n",
       "25%                 1.000000  1.153820e+07    273.000000      2.000000  ...   \n",
       "50%                 1.000000  1.253054e+07    515.000000      2.000000  ...   \n",
       "75%                 1.000000  1.421136e+07    796.500000      3.000000  ...   \n",
       "max                13.000000  1.676893e+08   3560.000000     18.000000  ...   \n",
       "\n",
       "       numberofstories  fireplaceflag  structuretaxvaluedollarcnt  \\\n",
       "count     17599.000000          172.0                7.746400e+04   \n",
       "mean          1.434286            1.0                1.892811e+05   \n",
       "std           0.544515            0.0                2.304107e+05   \n",
       "min           1.000000            1.0                4.400000e+01   \n",
       "25%           1.000000            1.0                8.417925e+04   \n",
       "50%           1.000000            1.0                1.364045e+05   \n",
       "75%           2.000000            1.0                2.187340e+05   \n",
       "max           6.000000            1.0                1.142179e+07   \n",
       "\n",
       "       taxvaluedollarcnt  assessmentyear  landtaxvaluedollarcnt  \\\n",
       "count       7.757800e+04         77579.0           7.757700e+04   \n",
       "mean        4.901506e+05          2016.0           3.011515e+05   \n",
       "std         6.537979e+05             0.0           4.927249e+05   \n",
       "min         1.000000e+03          2016.0           1.610000e+02   \n",
       "25%         2.068985e+05          2016.0           8.529300e+04   \n",
       "50%         3.588785e+05          2016.0           2.031880e+05   \n",
       "75%         5.690000e+05          2016.0           3.667530e+05   \n",
       "max         4.906124e+07          2016.0           4.895220e+07   \n",
       "\n",
       "           taxamount  taxdelinquencyyear  censustractandblock      logerror  \n",
       "count   77574.000000         2900.000000         7.733200e+04  77579.000000  \n",
       "mean     5995.961788           14.088276         6.049667e+13      0.016803  \n",
       "std      7628.859728            2.181281         1.533339e+12      0.170738  \n",
       "min        19.920000            3.000000         6.037101e+13     -4.655420  \n",
       "25%      2712.630000           14.000000         6.037311e+13     -0.024309  \n",
       "50%      4448.265000           15.000000         6.037603e+13      0.006676  \n",
       "75%      6926.917500           15.000000         6.059042e+13      0.039291  \n",
       "max    586639.300000           99.000000         4.830301e+14      5.262999  \n",
       "\n",
       "[8 rows x 56 columns]"
      ]
     },
     "execution_count": 6,
     "metadata": {},
     "output_type": "execute_result"
    }
   ],
   "source": [
    "df.describe() "
   ]
  },
  {
   "cell_type": "code",
   "execution_count": 7,
   "id": "9c179551",
   "metadata": {},
   "outputs": [
    {
     "data": {
      "text/plain": [
       "parcelid                        77381\n",
       "logerror                        77030\n",
       "taxamount                       73825\n",
       "latitude                        64038\n",
       "longitude                       62461\n",
       "landtaxvaluedollarcnt           51600\n",
       "taxvaluedollarcnt               50949\n",
       "structuretaxvaluedollarcnt      50430\n",
       "rawcensustractandblock          39191\n",
       "censustractandblock             39006\n",
       "lotsizesquarefeet               18848\n",
       "calculatedfinishedsquarefeet     4972\n",
       "finishedsquarefeet12             4868\n",
       "propertyzoningdesc               1907\n",
       "finishedsquarefeet50             1807\n",
       "finishedfloor1squarefeet         1787\n",
       "finishedsquarefeet15             1724\n",
       "garagetotalsqft                   839\n",
       "yardbuildingsqft17                540\n",
       "regionidneighborhood              480\n",
       "regionidzip                       389\n",
       "finishedsquarefeet6               350\n",
       "transactiondate                   264\n",
       "poolsizesum                       262\n",
       "regionidcity                      175\n",
       "yearbuilt                         136\n",
       "propertycountylandusecode          75\n",
       "yardbuildingsqft26                 59\n",
       "basementsqft                       43\n",
       "bathroomcnt                        22\n",
       "dtype: int64"
      ]
     },
     "execution_count": 7,
     "metadata": {},
     "output_type": "execute_result"
    }
   ],
   "source": [
    "df.nunique().sort_values(ascending=False).head(30) #went back and dropped ID columns in getNewZillowData"
   ]
  },
  {
   "cell_type": "markdown",
   "id": "26f60a6b",
   "metadata": {},
   "source": [
    "##### Look at number of nulls"
   ]
  },
  {
   "cell_type": "code",
   "execution_count": 8,
   "id": "e39869fb",
   "metadata": {},
   "outputs": [],
   "source": [
    "col_nulls = utils.count_nulls(df)"
   ]
  },
  {
   "cell_type": "code",
   "execution_count": 9,
   "id": "d12a063c",
   "metadata": {},
   "outputs": [
    {
     "data": {
      "text/plain": [
       "<AxesSubplot:>"
      ]
     },
     "execution_count": 9,
     "metadata": {},
     "output_type": "execute_result"
    },
    {
     "data": {
      "image/png": "[encoded data removed]",
      "text/plain": [
       "<Figure size 432x288 with 1 Axes>"
      ]
     },
     "metadata": {
      "needs_background": "light"
     },
     "output_type": "display_data"
    }
   ],
   "source": [
    "col_nulls.pct_nulls.hist()"
   ]
  },
  {
   "cell_type": "markdown",
   "id": "b39a60c9",
   "metadata": {},
   "source": [
    "**NOTES:** Looks like about 40% of the columns are < 20% populated, while another 40% are > 90% populated"
   ]
  },
  {
   "cell_type": "code",
   "execution_count": 10,
   "id": "dcb2d60b",
   "metadata": {},
   "outputs": [],
   "source": [
    "#time intensive!\n",
    "# row_nulls = utils.count_nulls(df,by_column=False)\n",
    "# row_nulls.pct_nulls.hist()"
   ]
  },
  {
   "cell_type": "markdown",
   "id": "e9c57ffa",
   "metadata": {},
   "source": [
    "**NOTES:** percent nulls per row are primarily between 40 and 60%. The lack of rows with full or no data seem to indicate that columns are the primary driver of missing data."
   ]
  },
  {
   "cell_type": "markdown",
   "id": "d639445e",
   "metadata": {},
   "source": [
    "## Prepare"
   ]
  },
  {
   "cell_type": "markdown",
   "id": "256fb0a3",
   "metadata": {},
   "source": [
    "##### Remove properties that are unlikely to be single unit properties\n",
    "\n",
    "Look at typeconstructiontypeid, lotsizesquarefeet, propertyzoningdesc, unitcnt, architecturalstyledesc, buildingclassdesc, propertylandusedesc"
   ]
  },
  {
   "cell_type": "code",
   "execution_count": 11,
   "id": "d5c6e32f",
   "metadata": {},
   "outputs": [
    {
     "data": {
      "text/plain": [
       "1.0      47413\n",
       "2.0       2031\n",
       "4.0        726\n",
       "3.0        529\n",
       "45.0         1\n",
       "42.0         1\n",
       "6.0          1\n",
       "237.0        1\n",
       "Name: unitcnt, dtype: int64"
      ]
     },
     "execution_count": 11,
     "metadata": {},
     "output_type": "execute_result"
    }
   ],
   "source": [
    "#unit count will likely take care of most of this\n",
    "df.unitcnt.value_counts() #drop anything with more than 1 unit"
   ]
  },
  {
   "cell_type": "code",
   "execution_count": 12,
   "id": "a8423b1f",
   "metadata": {},
   "outputs": [
    {
     "data": {
      "text/plain": [
       "26876"
      ]
     },
     "execution_count": 12,
     "metadata": {},
     "output_type": "execute_result"
    }
   ],
   "source": [
    "df.unitcnt.isna().sum()"
   ]
  },
  {
   "cell_type": "markdown",
   "id": "eb281cd3",
   "metadata": {},
   "source": [
    "**NOTES:** Unitcnt seems like a great choice for getting rid of parcels with >1 units.  However, I'll want to keep the null columns as that makes up a significant portion of the datapoints."
   ]
  },
  {
   "cell_type": "code",
   "execution_count": 13,
   "id": "f1f6f1cc",
   "metadata": {},
   "outputs": [
    {
     "data": {
      "text/plain": [
       "Frame       220\n",
       "Masonry       1\n",
       "Metal         1\n",
       "Concrete      1\n",
       "Name: typeconstructiondesc, dtype: int64"
      ]
     },
     "execution_count": 13,
     "metadata": {},
     "output_type": "execute_result"
    }
   ],
   "source": [
    "df.typeconstructiondesc.value_counts() #ignore"
   ]
  },
  {
   "cell_type": "code",
   "execution_count": 14,
   "id": "58d61041",
   "metadata": {},
   "outputs": [
    {
     "data": {
      "text/plain": [
       "LAR1         6766\n",
       "LAR3         2450\n",
       "LARS         1394\n",
       "LBR1N        1225\n",
       "LARD1.5      1132\n",
       "             ... \n",
       "LCCM*           1\n",
       "BFA16000*       1\n",
       "LCPR*           1\n",
       "LYR2            1\n",
       "BFA15000*       1\n",
       "Name: propertyzoningdesc, Length: 1907, dtype: int64"
      ]
     },
     "execution_count": 14,
     "metadata": {},
     "output_type": "execute_result"
    }
   ],
   "source": [
    "df.propertyzoningdesc.value_counts() #would need to compare with their meaning in CA.  Ignore for now"
   ]
  },
  {
   "cell_type": "code",
   "execution_count": 15,
   "id": "c24b3b20",
   "metadata": {},
   "outputs": [
    {
     "data": {
      "text/plain": [
       "Contemporary     173\n",
       "Conventional      19\n",
       "Ranch/Rambler      7\n",
       "Bungalow           5\n",
       "Cape Cod           3\n",
       "Name: architecturalstyledesc, dtype: int64"
      ]
     },
     "execution_count": 15,
     "metadata": {},
     "output_type": "execute_result"
    }
   ],
   "source": [
    "df.architecturalstyledesc.value_counts() #ignore, not enough information and no obvious issues"
   ]
  },
  {
   "cell_type": "code",
   "execution_count": 16,
   "id": "05155cac",
   "metadata": {},
   "outputs": [
    {
     "data": {
      "text/plain": [
       "Buildings having wood or wood and steel frames                                                                                                                                                                                             14\n",
       "Buildings having exterior walls built of a non-combustible material such as brick, concrete, block or poured concrete. Interior partitions and roof structures are built of combustible materials. Floor may be concrete or wood frame.     1\n",
       "Name: buildingclassdesc, dtype: int64"
      ]
     },
     "execution_count": 16,
     "metadata": {},
     "output_type": "execute_result"
    }
   ],
   "source": [
    "df.buildingclassdesc.value_counts() #very little info, mostly nulls anyway - Ignore"
   ]
  },
  {
   "cell_type": "code",
   "execution_count": 17,
   "id": "9dd3ded4",
   "metadata": {},
   "outputs": [
    {
     "data": {
      "text/plain": [
       "Single Family Residential                     52441\n",
       "Condominium                                   19342\n",
       "Duplex (2 Units, Any Combination)              2021\n",
       "Planned Unit Development                       1947\n",
       "Quadruplex (4 Units, Any Combination)           729\n",
       "Triplex (3 Units, Any Combination)              539\n",
       "Cluster Home                                    335\n",
       "Mobile Home                                      74\n",
       "Manufactured, Modular, Prefabricated Homes       59\n",
       "Residential General                              42\n",
       "Cooperative                                      29\n",
       "Commercial/Office/Residential Mixed Used         15\n",
       "Townhouse                                         6\n",
       "Name: propertylandusedesc, dtype: int64"
      ]
     },
     "execution_count": 17,
     "metadata": {},
     "output_type": "execute_result"
    }
   ],
   "source": [
    "df.propertylandusedesc.value_counts()"
   ]
  },
  {
   "cell_type": "code",
   "execution_count": 18,
   "id": "cc646235",
   "metadata": {},
   "outputs": [
    {
     "data": {
      "text/plain": [
       "261.0    52441\n",
       "266.0    19342\n",
       "246.0     2021\n",
       "269.0     1947\n",
       "248.0      729\n",
       "247.0      539\n",
       "265.0      335\n",
       "263.0       74\n",
       "275.0       59\n",
       "260.0       42\n",
       "267.0       29\n",
       "31.0        15\n",
       "264.0        6\n",
       "Name: propertylandusetypeid, dtype: int64"
      ]
     },
     "execution_count": 18,
     "metadata": {},
     "output_type": "execute_result"
    }
   ],
   "source": [
    "df.propertylandusetypeid.value_counts()"
   ]
  },
  {
   "cell_type": "markdown",
   "id": "6adfa531",
   "metadata": {},
   "source": [
    "Per the [CA Builders website](https://cabuilderservices.com/planned-unit-development), PUDs can contain single family homes.  So it's possible new developments may not have the propertly land use type switched yet."
   ]
  },
  {
   "cell_type": "code",
   "execution_count": 19,
   "id": "e3af6850",
   "metadata": {},
   "outputs": [
    {
     "data": {
      "text/plain": [
       "<AxesSubplot:>"
      ]
     },
     "execution_count": 19,
     "metadata": {},
     "output_type": "execute_result"
    },
    {
     "data": {
      "image/png": "[encoded data removed]",
      "text/plain": [
       "<Figure size 432x288 with 1 Axes>"
      ]
     },
     "metadata": {
      "needs_background": "light"
     },
     "output_type": "display_data"
    }
   ],
   "source": [
    "#see if they are huge lots (big lots likely mean it's the entire development region, not individual units)\n",
    "df[df.propertylandusetypeid == 269].lotsizesquarefeet.hist()"
   ]
  },
  {
   "cell_type": "code",
   "execution_count": 20,
   "id": "edfeb6bb",
   "metadata": {},
   "outputs": [
    {
     "data": {
      "text/html": [
       "<div>\n",
       "<style scoped>\n",
       "    .dataframe tbody tr th:only-of-type {\n",
       "        vertical-align: middle;\n",
       "    }\n",
       "\n",
       "    .dataframe tbody tr th {\n",
       "        vertical-align: top;\n",
       "    }\n",
       "\n",
       "    .dataframe thead th {\n",
       "        text-align: right;\n",
       "    }\n",
       "</style>\n",
       "<table border=\"1\" class=\"dataframe\">\n",
       "  <thead>\n",
       "    <tr style=\"text-align: right;\">\n",
       "      <th></th>\n",
       "      <th>propertylandusetypeid</th>\n",
       "      <th>propertylandusedesc</th>\n",
       "    </tr>\n",
       "  </thead>\n",
       "  <tbody>\n",
       "    <tr>\n",
       "      <th>0</th>\n",
       "      <td>31</td>\n",
       "      <td>Commercial/Office/Residential Mixed Used</td>\n",
       "    </tr>\n",
       "    <tr>\n",
       "      <th>1</th>\n",
       "      <td>46</td>\n",
       "      <td>Multi-Story Store</td>\n",
       "    </tr>\n",
       "    <tr>\n",
       "      <th>2</th>\n",
       "      <td>47</td>\n",
       "      <td>Store/Office (Mixed Use)</td>\n",
       "    </tr>\n",
       "    <tr>\n",
       "      <th>3</th>\n",
       "      <td>246</td>\n",
       "      <td>Duplex (2 Units, Any Combination)</td>\n",
       "    </tr>\n",
       "    <tr>\n",
       "      <th>4</th>\n",
       "      <td>247</td>\n",
       "      <td>Triplex (3 Units, Any Combination)</td>\n",
       "    </tr>\n",
       "    <tr>\n",
       "      <th>5</th>\n",
       "      <td>248</td>\n",
       "      <td>Quadruplex (4 Units, Any Combination)</td>\n",
       "    </tr>\n",
       "    <tr>\n",
       "      <th>6</th>\n",
       "      <td>260</td>\n",
       "      <td>Residential General</td>\n",
       "    </tr>\n",
       "    <tr>\n",
       "      <th>7</th>\n",
       "      <td>261</td>\n",
       "      <td>Single Family Residential</td>\n",
       "    </tr>\n",
       "    <tr>\n",
       "      <th>8</th>\n",
       "      <td>262</td>\n",
       "      <td>Rural Residence</td>\n",
       "    </tr>\n",
       "    <tr>\n",
       "      <th>9</th>\n",
       "      <td>263</td>\n",
       "      <td>Mobile Home</td>\n",
       "    </tr>\n",
       "    <tr>\n",
       "      <th>10</th>\n",
       "      <td>264</td>\n",
       "      <td>Townhouse</td>\n",
       "    </tr>\n",
       "    <tr>\n",
       "      <th>11</th>\n",
       "      <td>265</td>\n",
       "      <td>Cluster Home</td>\n",
       "    </tr>\n",
       "    <tr>\n",
       "      <th>12</th>\n",
       "      <td>266</td>\n",
       "      <td>Condominium</td>\n",
       "    </tr>\n",
       "    <tr>\n",
       "      <th>13</th>\n",
       "      <td>267</td>\n",
       "      <td>Cooperative</td>\n",
       "    </tr>\n",
       "    <tr>\n",
       "      <th>14</th>\n",
       "      <td>268</td>\n",
       "      <td>Row House</td>\n",
       "    </tr>\n",
       "    <tr>\n",
       "      <th>15</th>\n",
       "      <td>269</td>\n",
       "      <td>Planned Unit Development</td>\n",
       "    </tr>\n",
       "    <tr>\n",
       "      <th>16</th>\n",
       "      <td>270</td>\n",
       "      <td>Residential Common Area</td>\n",
       "    </tr>\n",
       "    <tr>\n",
       "      <th>17</th>\n",
       "      <td>271</td>\n",
       "      <td>Timeshare</td>\n",
       "    </tr>\n",
       "    <tr>\n",
       "      <th>18</th>\n",
       "      <td>273</td>\n",
       "      <td>Bungalow</td>\n",
       "    </tr>\n",
       "    <tr>\n",
       "      <th>19</th>\n",
       "      <td>274</td>\n",
       "      <td>Zero Lot Line</td>\n",
       "    </tr>\n",
       "    <tr>\n",
       "      <th>20</th>\n",
       "      <td>275</td>\n",
       "      <td>Manufactured, Modular, Prefabricated Homes</td>\n",
       "    </tr>\n",
       "    <tr>\n",
       "      <th>21</th>\n",
       "      <td>276</td>\n",
       "      <td>Patio Home</td>\n",
       "    </tr>\n",
       "    <tr>\n",
       "      <th>22</th>\n",
       "      <td>279</td>\n",
       "      <td>Inferred Single Family Residential</td>\n",
       "    </tr>\n",
       "    <tr>\n",
       "      <th>23</th>\n",
       "      <td>290</td>\n",
       "      <td>Vacant Land - General</td>\n",
       "    </tr>\n",
       "    <tr>\n",
       "      <th>24</th>\n",
       "      <td>291</td>\n",
       "      <td>Residential Vacant Land</td>\n",
       "    </tr>\n",
       "  </tbody>\n",
       "</table>\n",
       "</div>"
      ],
      "text/plain": [
       "    propertylandusetypeid                         propertylandusedesc\n",
       "0                      31    Commercial/Office/Residential Mixed Used\n",
       "1                      46                           Multi-Story Store\n",
       "2                      47                    Store/Office (Mixed Use)\n",
       "3                     246           Duplex (2 Units, Any Combination)\n",
       "4                     247          Triplex (3 Units, Any Combination)\n",
       "5                     248       Quadruplex (4 Units, Any Combination)\n",
       "6                     260                         Residential General\n",
       "7                     261                   Single Family Residential\n",
       "8                     262                             Rural Residence\n",
       "9                     263                                 Mobile Home\n",
       "10                    264                                   Townhouse\n",
       "11                    265                                Cluster Home\n",
       "12                    266                                 Condominium\n",
       "13                    267                                 Cooperative\n",
       "14                    268                                   Row House\n",
       "15                    269                    Planned Unit Development\n",
       "16                    270                     Residential Common Area\n",
       "17                    271                                   Timeshare\n",
       "18                    273                                    Bungalow\n",
       "19                    274                               Zero Lot Line\n",
       "20                    275  Manufactured, Modular, Prefabricated Homes\n",
       "21                    276                                  Patio Home\n",
       "22                    279          Inferred Single Family Residential\n",
       "23                    290                       Vacant Land - General\n",
       "24                    291                     Residential Vacant Land"
      ]
     },
     "execution_count": 20,
     "metadata": {},
     "output_type": "execute_result"
    }
   ],
   "source": [
    "#actually want to check against all possible values:\n",
    "pd.read_sql('SELECT * FROM propertylandusetype',get_db_url('zillow'))"
   ]
  },
  {
   "cell_type": "code",
   "execution_count": 21,
   "id": "48c168fd",
   "metadata": {},
   "outputs": [
    {
     "data": {
      "text/plain": [
       "2.0    1981\n",
       "1.0      21\n",
       "4.0       1\n",
       "Name: unitcnt, dtype: int64"
      ]
     },
     "execution_count": 21,
     "metadata": {},
     "output_type": "execute_result"
    }
   ],
   "source": [
    "#see if Duplexs are generally individual units or not\n",
    "df[df.propertylandusetypeid == 246].unitcnt.value_counts()"
   ]
  },
  {
   "cell_type": "markdown",
   "id": "097d32d7",
   "metadata": {},
   "source": [
    "Helpful resource for determining appropriate building type/zoning. [Zillow types of houses](https://www.zillow.com/resources/stay-informed/types-of-houses/)\n",
    "\n",
    "**Action:** Leave in:\n",
    "- Single Family (261)\n",
    "- PUD (269)\n",
    "- Mobile home (263)\n",
    "- Townhouse (264)\n",
    "- Condominium (266)\n",
    "- Manufactured, etc (275)\n",
    "- Residential general (260)\n",
    "- Rural residence (262)\n",
    "- Bungalow (273)\n",
    "- Zero Lot Line (274)\n",
    "- Inferred Single Family (279)\n",
    "- Patio Home (276)\n",
    " \n",
    "List to include: [261,269,263,264,266,275,260,262,273,274,279,276]\n",
    "\n",
    "**Note:** Leaving mobile homes as they could have individual parcels.  Leaving PUDs, as they seem appropriate to include (inappropriate ones may be removed with outliers based of lot size.)  Not including duplexes/triplex/etc, even though they can be sold as individual units, it would be hard to know if they were multiple or not (in particular, given that unitcnt is not always populated).  Excluding for this analysis."
   ]
  },
  {
   "cell_type": "markdown",
   "id": "75b30c0e",
   "metadata": {},
   "source": [
    "##### Single unit filters:\n",
    "- Only keep rows w/ unit counts of 1 or null\n",
    "- Only include these property land use type ids: [261,269,263,264,266,275,260,262,273,274,279,276] \n"
   ]
  },
  {
   "cell_type": "code",
   "execution_count": 22,
   "id": "23e5967d",
   "metadata": {},
   "outputs": [
    {
     "data": {
      "text/plain": [
       "(77579, 67)"
      ]
     },
     "execution_count": 22,
     "metadata": {},
     "output_type": "execute_result"
    }
   ],
   "source": [
    "df.shape"
   ]
  },
  {
   "cell_type": "code",
   "execution_count": 23,
   "id": "b40d3ee4",
   "metadata": {},
   "outputs": [
    {
     "data": {
      "text/plain": [
       "(74289, 67)"
      ]
     },
     "execution_count": 23,
     "metadata": {},
     "output_type": "execute_result"
    }
   ],
   "source": [
    "df[(df.unitcnt ==1) | df.unitcnt.isna()].shape"
   ]
  },
  {
   "cell_type": "code",
   "execution_count": 24,
   "id": "4ee8e030",
   "metadata": {},
   "outputs": [],
   "source": [
    "#only keep rows with unit count of 1 or null\n",
    "df = df[(df.unitcnt ==1) | df.unitcnt.isna()]\n",
    "#filter land use type\n",
    "df = df[df.propertylandusetypeid.isin([261,269,263,264,266,275,260,262,273,274,279,276])]"
   ]
  },
  {
   "cell_type": "code",
   "execution_count": 25,
   "id": "53a25d10",
   "metadata": {},
   "outputs": [
    {
     "data": {
      "text/plain": [
       "(73869, 67)"
      ]
     },
     "execution_count": 25,
     "metadata": {},
     "output_type": "execute_result"
    }
   ],
   "source": [
    "df.shape"
   ]
  },
  {
   "cell_type": "markdown",
   "id": "08b9f768",
   "metadata": {},
   "source": [
    "##### Create a function to drop rows or columns based on the percent of values missing"
   ]
  },
  {
   "cell_type": "code",
   "execution_count": 26,
   "id": "070065b2",
   "metadata": {},
   "outputs": [],
   "source": [
    "def handle_missing_values(old_df, prop_req_col=.75, prop_req_row=.75):\n",
    "    \"\"\"\n",
    "    Checks the rows and columns for missing values.  Drops any rows or columns less than the specified percentage.\n",
    "    \n",
    "    Returnss: Dataframe\n",
    "    Parameters: \n",
    "                df: Dataframe to analyze\n",
    "      prop_req_col: Proportion (between 0 and 1) of values in column that must exist (non-null). Default: .75\n",
    "      prop_req_row: Proportion (between 0 and 1) of values in a row that must exist (non-null). Default: .75\n",
    "    \"\"\"\n",
    "    #make sure not to update external dataframe\n",
    "    df=old_df.copy()\n",
    "    #Determine number of required non-nulls in columns (prop * num_rows)\n",
    "    col_thresh = int(round(prop_req_col*df.shape[0],0))\n",
    "    #drop columns w/o enough info\n",
    "    df.dropna(axis=1,thresh=col_thresh,inplace=True)\n",
    "    \n",
    "    #NOW DO ROWS - note, this on already trimmed df\n",
    "    #Determine number of required non-nulls in rows (prop * num_cols)\n",
    "    row_thresh = int(round(prop_req_row*df.shape[1],0))\n",
    "    #drop rows w/o enough info\n",
    "    df.dropna(axis=0,thresh=row_thresh,inplace=True)\n",
    "    \n",
    "    return df"
   ]
  },
  {
   "cell_type": "code",
   "execution_count": 27,
   "id": "092eb087",
   "metadata": {},
   "outputs": [
    {
     "data": {
      "text/plain": [
       "<AxesSubplot:>"
      ]
     },
     "execution_count": 27,
     "metadata": {},
     "output_type": "execute_result"
    },
    {
     "data": {
      "image/png": "[encoded data removed]",
      "text/plain": [
       "<Figure size 432x288 with 1 Axes>"
      ]
     },
     "metadata": {
      "needs_background": "light"
     },
     "output_type": "display_data"
    }
   ],
   "source": [
    "#Look at nulls again\n",
    "col_nulls = utils.count_nulls(df)\n",
    "col_nulls.pct_nulls.hist()"
   ]
  },
  {
   "cell_type": "markdown",
   "id": "ffea2473",
   "metadata": {},
   "source": [
    "Looking at this, I'm think I can either use all the very full columns, or try dropping columns with less than 90% of data and seeing if dropping rows with zeros accounts to minimal loss of observation and maximum columns\n",
    "\n",
    "Try: \n",
    "- no nulls in columns\n",
    "- <10% nulls in columns\n",
    "- <5% nulls in columns\n",
    "\n",
    "then go from there\n"
   ]
  },
  {
   "cell_type": "code",
   "execution_count": 28,
   "id": "5f30c17f",
   "metadata": {},
   "outputs": [
    {
     "name": "stdout",
     "output_type": "stream",
     "text": [
      "27 columns if I keep them with <10% nulls\n",
      "27 columns if I keep them with <5% nulls\n",
      "27 columns if I keep them with <2% nulls\n",
      "15 columns if I keep them with 0 nulls\n"
     ]
    }
   ],
   "source": [
    "print(f'{(col_nulls.pct_nulls < .1).sum()} columns if I keep them with <10% nulls')\n",
    "print(f'{(col_nulls.pct_nulls < .05).sum()} columns if I keep them with <5% nulls')\n",
    "print(f'{(col_nulls.pct_nulls < .02).sum()} columns if I keep them with <2% nulls')\n",
    "print(f'{(col_nulls.pct_nulls == 0).sum()} columns if I keep them with 0 nulls')"
   ]
  },
  {
   "cell_type": "code",
   "execution_count": 29,
   "id": "3b0008d2",
   "metadata": {},
   "outputs": [
    {
     "data": {
      "text/plain": [
       "(71683, 27)"
      ]
     },
     "execution_count": 29,
     "metadata": {},
     "output_type": "execute_result"
    }
   ],
   "source": [
    "#now let's see how many rows we lose if we drop the other nulls\n",
    "handle_missing_values(df,prop_req_col=.98,prop_req_row=1).shape"
   ]
  },
  {
   "cell_type": "markdown",
   "id": "cb0c59a0",
   "metadata": {},
   "source": [
    "**NOTES:** For this subset, we can get the bulk of our columns by making a cutoff of .98, and we only lose 4k of our rows. THIS MAY NOT APPLY TO FUTURE DATASETS\n",
    "\n",
    "**ACTION:** handle missing values by dropping any columns with <98% of values, then dropping any rows with nulls."
   ]
  },
  {
   "cell_type": "code",
   "execution_count": 30,
   "id": "9330bab6",
   "metadata": {},
   "outputs": [
    {
     "data": {
      "text/plain": [
       "(71683, 27)"
      ]
     },
     "execution_count": 30,
     "metadata": {},
     "output_type": "execute_result"
    }
   ],
   "source": [
    "df = handle_missing_values(df,prop_req_col=.98,prop_req_row=1)\n",
    "df.shape"
   ]
  },
  {
   "cell_type": "markdown",
   "id": "2b175142",
   "metadata": {},
   "source": [
    "##### Imputing notes\n",
    "- Not imputing for this evolution\n",
    "- **Time Permitting:**\n",
    "  - check out KNNImputer\n",
    "    - Looks like fiting imputer can use subset of columns\n",
    "    - Will take the mode, which means it won't work well for continuous columns. But, it may still be appropriate.  Finding the absolute closest neighbor and just using it's value.\n",
    "  - when would KNN be more appropriate?\n"
   ]
  },
  {
   "cell_type": "markdown",
   "id": "2cb078c6",
   "metadata": {},
   "source": [
    "##### Look at duplicate columns and data types"
   ]
  },
  {
   "cell_type": "code",
   "execution_count": 31,
   "id": "4fd6aa0f",
   "metadata": {},
   "outputs": [
    {
     "name": "stdout",
     "output_type": "stream",
     "text": [
      "<class 'pandas.core.frame.DataFrame'>\n",
      "Int64Index: 71683 entries, 0 to 77578\n",
      "Data columns (total 27 columns):\n",
      " #   Column                        Non-Null Count  Dtype  \n",
      "---  ------                        --------------  -----  \n",
      " 0   propertylandusetypeid         71683 non-null  float64\n",
      " 1   parcelid                      71683 non-null  int64  \n",
      " 2   bathroomcnt                   71683 non-null  float64\n",
      " 3   bedroomcnt                    71683 non-null  float64\n",
      " 4   calculatedbathnbr             71683 non-null  float64\n",
      " 5   calculatedfinishedsquarefeet  71683 non-null  float64\n",
      " 6   finishedsquarefeet12          71683 non-null  float64\n",
      " 7   fips                          71683 non-null  float64\n",
      " 8   fullbathcnt                   71683 non-null  float64\n",
      " 9   latitude                      71683 non-null  float64\n",
      " 10  longitude                     71683 non-null  float64\n",
      " 11  propertycountylandusecode     71683 non-null  object \n",
      " 12  rawcensustractandblock        71683 non-null  float64\n",
      " 13  regionidcity                  71683 non-null  float64\n",
      " 14  regionidcounty                71683 non-null  float64\n",
      " 15  regionidzip                   71683 non-null  float64\n",
      " 16  roomcnt                       71683 non-null  float64\n",
      " 17  yearbuilt                     71683 non-null  float64\n",
      " 18  structuretaxvaluedollarcnt    71683 non-null  float64\n",
      " 19  taxvaluedollarcnt             71683 non-null  float64\n",
      " 20  assessmentyear                71683 non-null  float64\n",
      " 21  landtaxvaluedollarcnt         71683 non-null  float64\n",
      " 22  taxamount                     71683 non-null  float64\n",
      " 23  censustractandblock           71683 non-null  float64\n",
      " 24  logerror                      71683 non-null  float64\n",
      " 25  transactiondate               71683 non-null  object \n",
      " 26  propertylandusedesc           71683 non-null  object \n",
      "dtypes: float64(23), int64(1), object(3)\n",
      "memory usage: 15.3+ MB\n"
     ]
    }
   ],
   "source": [
    "df.info()"
   ]
  },
  {
   "cell_type": "markdown",
   "id": "14cb9666",
   "metadata": {},
   "source": [
    "**ACTION:** drop propertylandusetypeid, duplicate"
   ]
  },
  {
   "cell_type": "code",
   "execution_count": 83,
   "id": "4a26e30c",
   "metadata": {},
   "outputs": [
    {
     "data": {
      "text/plain": [
       "1.0"
      ]
     },
     "execution_count": 83,
     "metadata": {},
     "output_type": "execute_result"
    }
   ],
   "source": [
    "#calculatedbathnbr is number of bathrooms (non-fractional)\n",
    "(df.bathroomcnt == df.calculatedbathnbr).mean() #the same,drop calc bath"
   ]
  },
  {
   "cell_type": "code",
   "execution_count": 84,
   "id": "7fe6fb3a",
   "metadata": {},
   "outputs": [
    {
     "data": {
      "text/plain": [
       "1.0"
      ]
     },
     "execution_count": 84,
     "metadata": {},
     "output_type": "execute_result"
    }
   ],
   "source": [
    "(df.fullbathcnt <= df.bathroomcnt).mean()#good"
   ]
  },
  {
   "cell_type": "code",
   "execution_count": 35,
   "id": "9276c569",
   "metadata": {},
   "outputs": [
    {
     "data": {
      "text/plain": [
       "0.0    71683\n",
       "Name: fullbathcnt, dtype: int64"
      ]
     },
     "execution_count": 35,
     "metadata": {},
     "output_type": "execute_result"
    }
   ],
   "source": [
    "(df.fullbathcnt% 1).value_counts() #convert to int"
   ]
  },
  {
   "cell_type": "code",
   "execution_count": 37,
   "id": "530dd10d",
   "metadata": {},
   "outputs": [
    {
     "data": {
      "text/plain": [
       "0.8632869718064256"
      ]
     },
     "execution_count": 37,
     "metadata": {},
     "output_type": "execute_result"
    }
   ],
   "source": [
    "(df.fullbathcnt == df.bathroomcnt).mean() #good"
   ]
  },
  {
   "cell_type": "code",
   "execution_count": 38,
   "id": "12f4a1e2",
   "metadata": {},
   "outputs": [
    {
     "data": {
      "text/plain": [
       "0.0    71683\n",
       "Name: bedroomcnt, dtype: int64"
      ]
     },
     "execution_count": 38,
     "metadata": {},
     "output_type": "execute_result"
    }
   ],
   "source": [
    "(df.bedroomcnt % 1).value_counts() #convert to int"
   ]
  },
  {
   "cell_type": "code",
   "execution_count": 39,
   "id": "1ee5aaa4",
   "metadata": {},
   "outputs": [
    {
     "data": {
      "text/plain": [
       "<AxesSubplot:>"
      ]
     },
     "execution_count": 39,
     "metadata": {},
     "output_type": "execute_result"
    },
    {
     "data": {
      "image/png": "[encoded data removed]",
      "text/plain": [
       "<Figure size 432x288 with 1 Axes>"
      ]
     },
     "metadata": {
      "needs_background": "light"
     },
     "output_type": "display_data"
    }
   ],
   "source": [
    "df.calculatedfinishedsquarefeet.hist() "
   ]
  },
  {
   "cell_type": "code",
   "execution_count": 40,
   "id": "c61df72b",
   "metadata": {},
   "outputs": [
    {
     "data": {
      "text/plain": [
       "0.0    71683\n",
       "Name: calculatedfinishedsquarefeet, dtype: int64"
      ]
     },
     "execution_count": 40,
     "metadata": {},
     "output_type": "execute_result"
    }
   ],
   "source": [
    "(df.calculatedfinishedsquarefeet %1).value_counts() #convert to int"
   ]
  },
  {
   "cell_type": "code",
   "execution_count": 41,
   "id": "5f1822f0",
   "metadata": {},
   "outputs": [
    {
     "data": {
      "text/plain": [
       "<AxesSubplot:>"
      ]
     },
     "execution_count": 41,
     "metadata": {},
     "output_type": "execute_result"
    },
    {
     "data": {
      "image/png": "[encoded data removed]",
      "text/plain": [
       "<Figure size 432x288 with 1 Axes>"
      ]
     },
     "metadata": {
      "needs_background": "light"
     },
     "output_type": "display_data"
    }
   ],
   "source": [
    "#finished living area\n",
    "df.finishedsquarefeet12.hist()"
   ]
  },
  {
   "cell_type": "code",
   "execution_count": 42,
   "id": "a030dd66",
   "metadata": {},
   "outputs": [
    {
     "data": {
      "text/plain": [
       "1.0"
      ]
     },
     "execution_count": 42,
     "metadata": {},
     "output_type": "execute_result"
    }
   ],
   "source": [
    "(df.finishedsquarefeet12 == df.calculatedfinishedsquarefeet).mean()"
   ]
  },
  {
   "cell_type": "markdown",
   "id": "1db55171",
   "metadata": {},
   "source": [
    "since those are the same, drop finishedsquarefeet12"
   ]
  },
  {
   "cell_type": "code",
   "execution_count": 43,
   "id": "d18f7106",
   "metadata": {},
   "outputs": [
    {
     "data": {
      "text/plain": [
       "6037.0    46309\n",
       "6059.0    19655\n",
       "6111.0     5719\n",
       "Name: fips, dtype: int64"
      ]
     },
     "execution_count": 43,
     "metadata": {},
     "output_type": "execute_result"
    }
   ],
   "source": [
    "df.fips.value_counts() #map to county names, then drop"
   ]
  },
  {
   "cell_type": "code",
   "execution_count": 44,
   "id": "e1e9aed9",
   "metadata": {},
   "outputs": [
    {
     "name": "stdout",
     "output_type": "stream",
     "text": [
      "min lat: 33339527.0\n",
      "max lat: 34818767.0\n",
      "min lon: -119475265.0\n",
      "max lon: -117572338.0\n"
     ]
    }
   ],
   "source": [
    "print(f'min lat: {df.latitude.min()}')\n",
    "print(f'max lat: {df.latitude.max()}')\n",
    "print(f'min lon: {df.longitude.min()}')\n",
    "print(f'max lon: {df.longitude.max()}')"
   ]
  },
  {
   "cell_type": "code",
   "execution_count": 45,
   "id": "c42cdf22",
   "metadata": {},
   "outputs": [
    {
     "data": {
      "text/plain": [
       "0.0    71683\n",
       "Name: latitude, dtype: int64"
      ]
     },
     "execution_count": 45,
     "metadata": {},
     "output_type": "execute_result"
    }
   ],
   "source": [
    "(df.latitude % 1).value_counts() "
   ]
  },
  {
   "cell_type": "code",
   "execution_count": 46,
   "id": "72725af1",
   "metadata": {},
   "outputs": [
    {
     "data": {
      "text/plain": [
       "0.0    71683\n",
       "Name: longitude, dtype: int64"
      ]
     },
     "execution_count": 46,
     "metadata": {},
     "output_type": "execute_result"
    }
   ],
   "source": [
    "(df.longitude % 1).value_counts() "
   ]
  },
  {
   "cell_type": "markdown",
   "id": "e46a29dc",
   "metadata": {},
   "source": [
    "lat/long should be middle of parcel * 10e6.  Good to convert to int"
   ]
  },
  {
   "cell_type": "code",
   "execution_count": 47,
   "id": "00b2be4c",
   "metadata": {},
   "outputs": [
    {
     "data": {
      "text/plain": [
       "0100    26164\n",
       "122     12560\n",
       "010C     8661\n",
       "0101     6192\n",
       "34       4838\n",
       "1111     3346\n",
       "1        2257\n",
       "010E     2011\n",
       "010D     1825\n",
       "1129     1376\n",
       "1110      980\n",
       "0104      361\n",
       "012C      308\n",
       "01DC      201\n",
       "01HC      134\n",
       "010G       94\n",
       "0103       89\n",
       "010H       64\n",
       "0108       55\n",
       "010M       51\n",
       "0700       50\n",
       "010V        8\n",
       "1116        7\n",
       "0109        7\n",
       "0113        6\n",
       "1117        6\n",
       "0110        6\n",
       "012E        5\n",
       "0102        3\n",
       "1120        3\n",
       "0111        2\n",
       "070D        2\n",
       "0105        2\n",
       "0130        2\n",
       "0141        2\n",
       "0131        1\n",
       "0133        1\n",
       "1112        1\n",
       "012D        1\n",
       "0114        1\n",
       "Name: propertycountylandusecode, dtype: int64"
      ]
     },
     "execution_count": 47,
     "metadata": {},
     "output_type": "execute_result"
    }
   ],
   "source": [
    "df.propertycountylandusecode.value_counts()"
   ]
  },
  {
   "cell_type": "code",
   "execution_count": 48,
   "id": "1650ae87",
   "metadata": {},
   "outputs": [
    {
     "data": {
      "text/plain": [
       "0.022000    390\n",
       "0.021000    381\n",
       "0.011000    359\n",
       "0.002001    356\n",
       "0.002000    345\n",
       "           ... \n",
       "0.192013      1\n",
       "0.423015      1\n",
       "0.212027      1\n",
       "0.016020      1\n",
       "0.262006      1\n",
       "Name: rawcensustractandblock, Length: 5579, dtype: int64"
      ]
     },
     "execution_count": 48,
     "metadata": {},
     "output_type": "execute_result"
    }
   ],
   "source": [
    "(df.rawcensustractandblock % 1).value_counts() "
   ]
  },
  {
   "cell_type": "code",
   "execution_count": 49,
   "id": "3e5687ce",
   "metadata": {},
   "outputs": [
    {
     "data": {
      "text/plain": [
       "6.037137e+07    60\n",
       "6.059063e+07    60\n",
       "6.037277e+07    51\n",
       "6.059032e+07    43\n",
       "6.037139e+07    40\n",
       "                ..\n",
       "6.111003e+07     1\n",
       "6.037577e+07     1\n",
       "6.037278e+07     1\n",
       "6.037401e+07     1\n",
       "6.037503e+07     1\n",
       "Name: rawcensustractandblock, Length: 36169, dtype: int64"
      ]
     },
     "execution_count": 49,
     "metadata": {},
     "output_type": "execute_result"
    }
   ],
   "source": [
    "df.rawcensustractandblock.value_counts() "
   ]
  },
  {
   "cell_type": "code",
   "execution_count": 50,
   "id": "c90fa369",
   "metadata": {},
   "outputs": [
    {
     "data": {
      "text/plain": [
       "6.037137e+13    60\n",
       "6.037277e+13    51\n",
       "6.059032e+13    44\n",
       "6.059063e+13    41\n",
       "6.037139e+13    40\n",
       "                ..\n",
       "6.111005e+13     1\n",
       "6.037800e+13     1\n",
       "6.111008e+13     1\n",
       "6.037650e+13     1\n",
       "6.037503e+13     1\n",
       "Name: censustractandblock, Length: 36042, dtype: int64"
      ]
     },
     "execution_count": 50,
     "metadata": {},
     "output_type": "execute_result"
    }
   ],
   "source": [
    "df.censustractandblock.value_counts() "
   ]
  },
  {
   "cell_type": "code",
   "execution_count": 51,
   "id": "88a1b9f4",
   "metadata": {},
   "outputs": [
    {
     "data": {
      "text/plain": [
       "0.0    71683\n",
       "Name: regionidzip, dtype: int64"
      ]
     },
     "execution_count": 51,
     "metadata": {},
     "output_type": "execute_result"
    }
   ],
   "source": [
    "(df.regionidzip % 1).value_counts() #convert to int"
   ]
  },
  {
   "cell_type": "code",
   "execution_count": 52,
   "id": "c717e853",
   "metadata": {},
   "outputs": [
    {
     "data": {
      "text/plain": [
       "12447.0     16394\n",
       "46298.0      2356\n",
       "54311.0      1873\n",
       "5534.0       1868\n",
       "52650.0      1629\n",
       "            ...  \n",
       "118880.0        5\n",
       "10815.0         4\n",
       "13311.0         4\n",
       "36078.0         1\n",
       "21395.0         1\n",
       "Name: regionidcity, Length: 175, dtype: int64"
      ]
     },
     "execution_count": 52,
     "metadata": {},
     "output_type": "execute_result"
    }
   ],
   "source": [
    "df.regionidcity.value_counts()"
   ]
  },
  {
   "cell_type": "code",
   "execution_count": 53,
   "id": "d706453e",
   "metadata": {},
   "outputs": [
    {
     "data": {
      "text/plain": [
       "3101.0    46309\n",
       "1286.0    19655\n",
       "2061.0     5719\n",
       "Name: regionidcounty, dtype: int64"
      ]
     },
     "execution_count": 53,
     "metadata": {},
     "output_type": "execute_result"
    }
   ],
   "source": [
    "df.regionidcounty.value_counts() #duplicate of fips, drop"
   ]
  },
  {
   "cell_type": "code",
   "execution_count": 54,
   "id": "aca036c4",
   "metadata": {},
   "outputs": [
    {
     "data": {
      "text/plain": [
       "0.0     54885\n",
       "6.0      4341\n",
       "7.0      3743\n",
       "8.0      2828\n",
       "5.0      2818\n",
       "4.0      1220\n",
       "9.0      1177\n",
       "10.0      337\n",
       "3.0       174\n",
       "11.0      103\n",
       "12.0       33\n",
       "13.0        9\n",
       "2.0         8\n",
       "14.0        5\n",
       "1.0         1\n",
       "15.0        1\n",
       "Name: roomcnt, dtype: int64"
      ]
     },
     "execution_count": 54,
     "metadata": {},
     "output_type": "execute_result"
    }
   ],
   "source": [
    "df.roomcnt.value_counts() #to int"
   ]
  },
  {
   "cell_type": "code",
   "execution_count": 55,
   "id": "d50bbef6",
   "metadata": {},
   "outputs": [
    {
     "data": {
      "text/plain": [
       "0.0    71683\n",
       "Name: yearbuilt, dtype: int64"
      ]
     },
     "execution_count": 55,
     "metadata": {},
     "output_type": "execute_result"
    }
   ],
   "source": [
    "(df.yearbuilt % 1).value_counts() "
   ]
  },
  {
   "cell_type": "code",
   "execution_count": 56,
   "id": "2b4442f3",
   "metadata": {},
   "outputs": [
    {
     "data": {
      "text/plain": [
       "2016.0    71683\n",
       "Name: assessmentyear, dtype: int64"
      ]
     },
     "execution_count": 56,
     "metadata": {},
     "output_type": "execute_result"
    }
   ],
   "source": [
    "df.assessmentyear.value_counts() #drop"
   ]
  },
  {
   "cell_type": "code",
   "execution_count": 57,
   "id": "7444e12a",
   "metadata": {},
   "outputs": [
    {
     "data": {
      "text/plain": [
       "2017-06-30    1085\n",
       "2017-04-28     841\n",
       "2017-05-31     800\n",
       "2017-07-28     749\n",
       "2017-08-31     716\n",
       "              ... \n",
       "2017-07-22       1\n",
       "2017-08-05       1\n",
       "2017-08-06       1\n",
       "2017-02-18       1\n",
       "2017-09-25       1\n",
       "Name: transactiondate, Length: 263, dtype: int64"
      ]
     },
     "execution_count": 57,
     "metadata": {},
     "output_type": "execute_result"
    }
   ],
   "source": [
    "df.transactiondate.value_counts() #pull out month, rename"
   ]
  },
  {
   "cell_type": "code",
   "execution_count": 58,
   "id": "d13a82f6",
   "metadata": {},
   "outputs": [
    {
     "data": {
      "text/plain": [
       "Int64Index([1, 1, 1, 1, 1, 1, 1, 1, 1, 1,\n",
       "            ...\n",
       "            9, 9, 9, 9, 9, 9, 9, 9, 9, 9],\n",
       "           dtype='int64', name='transactiondate', length=71683)"
      ]
     },
     "execution_count": 58,
     "metadata": {},
     "output_type": "execute_result"
    }
   ],
   "source": [
    "pd.DatetimeIndex(df['transactiondate']).month"
   ]
  },
  {
   "cell_type": "code",
   "execution_count": 59,
   "id": "d2f07c7d",
   "metadata": {},
   "outputs": [
    {
     "data": {
      "text/plain": [
       "Index(['propertylandusetypeid', 'parcelid', 'bathroomcnt', 'bedroomcnt',\n",
       "       'calculatedbathnbr', 'calculatedfinishedsquarefeet',\n",
       "       'finishedsquarefeet12', 'fips', 'fullbathcnt', 'latitude', 'longitude',\n",
       "       'propertycountylandusecode', 'rawcensustractandblock', 'regionidcity',\n",
       "       'regionidcounty', 'regionidzip', 'roomcnt', 'yearbuilt',\n",
       "       'structuretaxvaluedollarcnt', 'taxvaluedollarcnt', 'assessmentyear',\n",
       "       'landtaxvaluedollarcnt', 'taxamount', 'censustractandblock', 'logerror',\n",
       "       'transactiondate', 'propertylandusedesc'],\n",
       "      dtype='object')"
      ]
     },
     "execution_count": 59,
     "metadata": {},
     "output_type": "execute_result"
    }
   ],
   "source": [
    "df.columns"
   ]
  },
  {
   "cell_type": "markdown",
   "id": "08eefdc3",
   "metadata": {},
   "source": [
    "### Preparation Notes\n",
    "- Filtered out single units by:\n",
    "    - Filter out unitcnts > 1 (not dropping nulls)\n",
    "    - Only keep parcels with a propertylandusetypeid of:\n",
    "      -  Single Family (261)\n",
    "      - PUD (269)\n",
    "      - Mobile home (263)\n",
    "      - Townhouse (264)\n",
    "      - Condominium (266)\n",
    "      - Manufactured, etc (275)\n",
    "      - Residential general (260)\n",
    "      - Rural residence (262)\n",
    "      - Bungalow (273)\n",
    "      - Zero Lot Line (274)\n",
    "      - Inferred Single Family (279)\n",
    "      - Patio Home (276)\n",
    "- There were quite a few nulls in some columns, after investigating, chose to drop any columns with >=2% nulls, then drop all rows.\n",
    "\n",
    "**GEOGRAPHIC ATTRIBUTES:** Since many of these involve a large amount of categories, I will drop any geographic attributes that aren't lat/lon and county.  We can always us lat/lon for knn and we can use it to pull geographic attributes using apis in the future.\n",
    "\n",
    "- Drop columns:\n",
    "    - Propertylandusetypeid: duplicate\n",
    "    - finishedsquarefeet12: duplicate\n",
    "    - calculatedbathnbr: duplicate\n",
    "    - regionidcounty: duplicate\n",
    "    - structuretaxvaluedollarcnt, landtaxvaluedollarcnt, tax amount: not independent of tax value\n",
    "    - Assessmentyear: all the same value\n",
    "    - : related to censustractandblock, but with less characters, use other.\n",
    "    - geographic: regionidcity, regionidzip, rawcensustractandblock, censustractandblock, \n",
    "- Convert to INT\n",
    "    - Bedroomcnt\n",
    "    - Year built\n",
    "    - Fullbathcnt\n",
    "    - Lat and long\n",
    "    - Roomcnt\n",
    "    - calculatedfinishedsquarefeet\n",
    "- convert transaction date to month, then drop\n",
    "- fips:\n",
    "    - Map to county names\n",
    "- encode:\n",
    "    - County\n"
   ]
  },
  {
   "cell_type": "markdown",
   "id": "68c80ff4",
   "metadata": {},
   "source": [
    "##### Look at outliers"
   ]
  },
  {
   "cell_type": "code",
   "execution_count": 62,
   "id": "71bf1a9e",
   "metadata": {},
   "outputs": [],
   "source": [
    "bounds = utils.get_iqr_outlier_bounds(df)"
   ]
  },
  {
   "cell_type": "code",
   "execution_count": 63,
   "id": "b41d7fb1",
   "metadata": {},
   "outputs": [
    {
     "data": {
      "text/html": [
       "<div>\n",
       "<style scoped>\n",
       "    .dataframe tbody tr th:only-of-type {\n",
       "        vertical-align: middle;\n",
       "    }\n",
       "\n",
       "    .dataframe tbody tr th {\n",
       "        vertical-align: top;\n",
       "    }\n",
       "\n",
       "    .dataframe thead th {\n",
       "        text-align: right;\n",
       "    }\n",
       "</style>\n",
       "<table border=\"1\" class=\"dataframe\">\n",
       "  <thead>\n",
       "    <tr style=\"text-align: right;\">\n",
       "      <th></th>\n",
       "      <th>propertylandusetypeid</th>\n",
       "      <th>parcelid</th>\n",
       "      <th>bathroomcnt</th>\n",
       "      <th>bedroomcnt</th>\n",
       "      <th>calculatedbathnbr</th>\n",
       "      <th>calculatedfinishedsquarefeet</th>\n",
       "      <th>finishedsquarefeet12</th>\n",
       "      <th>fips</th>\n",
       "      <th>fullbathcnt</th>\n",
       "      <th>latitude</th>\n",
       "      <th>...</th>\n",
       "      <th>regionidzip</th>\n",
       "      <th>roomcnt</th>\n",
       "      <th>yearbuilt</th>\n",
       "      <th>structuretaxvaluedollarcnt</th>\n",
       "      <th>taxvaluedollarcnt</th>\n",
       "      <th>assessmentyear</th>\n",
       "      <th>landtaxvaluedollarcnt</th>\n",
       "      <th>taxamount</th>\n",
       "      <th>censustractandblock</th>\n",
       "      <th>logerror</th>\n",
       "    </tr>\n",
       "  </thead>\n",
       "  <tbody>\n",
       "    <tr>\n",
       "      <th>lb</th>\n",
       "      <td>253.5</td>\n",
       "      <td>7475557.5</td>\n",
       "      <td>0.5</td>\n",
       "      <td>-1.0</td>\n",
       "      <td>0.5</td>\n",
       "      <td>-169.5</td>\n",
       "      <td>-169.5</td>\n",
       "      <td>6004.0</td>\n",
       "      <td>0.5</td>\n",
       "      <td>33263902.75</td>\n",
       "      <td>...</td>\n",
       "      <td>95034.5</td>\n",
       "      <td>0.0</td>\n",
       "      <td>1904.5</td>\n",
       "      <td>-114674.0</td>\n",
       "      <td>-334737.75</td>\n",
       "      <td>2016.0</td>\n",
       "      <td>-340102.25</td>\n",
       "      <td>-3503.1725</td>\n",
       "      <td>6.004737e+13</td>\n",
       "      <td>-0.116247</td>\n",
       "    </tr>\n",
       "    <tr>\n",
       "      <th>ub</th>\n",
       "      <td>273.5</td>\n",
       "      <td>18276541.5</td>\n",
       "      <td>4.5</td>\n",
       "      <td>7.0</td>\n",
       "      <td>4.5</td>\n",
       "      <td>3402.5</td>\n",
       "      <td>3402.5</td>\n",
       "      <td>6092.0</td>\n",
       "      <td>4.5</td>\n",
       "      <td>34721380.75</td>\n",
       "      <td>...</td>\n",
       "      <td>98158.5</td>\n",
       "      <td>0.0</td>\n",
       "      <td>2036.5</td>\n",
       "      <td>415126.0</td>\n",
       "      <td>1105236.25</td>\n",
       "      <td>2016.0</td>\n",
       "      <td>789891.75</td>\n",
       "      <td>13013.2475</td>\n",
       "      <td>6.091626e+13</td>\n",
       "      <td>0.130856</td>\n",
       "    </tr>\n",
       "  </tbody>\n",
       "</table>\n",
       "<p>2 rows × 24 columns</p>\n",
       "</div>"
      ],
      "text/plain": [
       "    propertylandusetypeid    parcelid  bathroomcnt  bedroomcnt  \\\n",
       "lb                  253.5   7475557.5          0.5        -1.0   \n",
       "ub                  273.5  18276541.5          4.5         7.0   \n",
       "\n",
       "    calculatedbathnbr  calculatedfinishedsquarefeet  finishedsquarefeet12  \\\n",
       "lb                0.5                        -169.5                -169.5   \n",
       "ub                4.5                        3402.5                3402.5   \n",
       "\n",
       "      fips  fullbathcnt     latitude  ...  regionidzip  roomcnt  yearbuilt  \\\n",
       "lb  6004.0          0.5  33263902.75  ...      95034.5      0.0     1904.5   \n",
       "ub  6092.0          4.5  34721380.75  ...      98158.5      0.0     2036.5   \n",
       "\n",
       "    structuretaxvaluedollarcnt  taxvaluedollarcnt  assessmentyear  \\\n",
       "lb                   -114674.0         -334737.75          2016.0   \n",
       "ub                    415126.0         1105236.25          2016.0   \n",
       "\n",
       "    landtaxvaluedollarcnt   taxamount  censustractandblock  logerror  \n",
       "lb             -340102.25  -3503.1725         6.004737e+13 -0.116247  \n",
       "ub              789891.75  13013.2475         6.091626e+13  0.130856  \n",
       "\n",
       "[2 rows x 24 columns]"
      ]
     },
     "execution_count": 63,
     "metadata": {},
     "output_type": "execute_result"
    }
   ],
   "source": [
    "bounds"
   ]
  },
  {
   "cell_type": "code",
   "execution_count": 64,
   "id": "70c97fd1",
   "metadata": {},
   "outputs": [
    {
     "data": {
      "text/plain": [
       "(71683, 27)"
      ]
     },
     "execution_count": 64,
     "metadata": {},
     "output_type": "execute_result"
    }
   ],
   "source": [
    "#trim outliers using IQR, only do outliers on these columns:\n",
    "#. ['bedroomcnt','calculatedbathnbr','calculatedfinishedsquarefeet', 'taxvaluedollarcnt','logerror']\n",
    "df.shape"
   ]
  },
  {
   "cell_type": "markdown",
   "id": "8fa89234",
   "metadata": {},
   "source": [
    "##### Put preparation actions into functions and test"
   ]
  },
  {
   "cell_type": "code",
   "execution_count": 80,
   "id": "e05291ac",
   "metadata": {},
   "outputs": [],
   "source": [
    "def only_single_unit(df):\n",
    "    '''\n",
    "    This function takes in a zillow dataframe and drops any rows with unitcnt > 2(keeps nulls).\n",
    "    It also keeps parcels of the following property land use type:  \n",
    "        Single Family (261), PUD (269), Mobile home (263), Townhouse (264), Condominium (266),\n",
    "        Manufactured, etc (275), Residential general (260), Rural residence (262), Bungalow (273),\n",
    "        Zero Lot Line (274), Inferred Single Family (279), Patio Home (276)\n",
    "    '''\n",
    "    #only keep rows with unit count of 1 or null\n",
    "    df = df[(df.unitcnt ==1) | df.unitcnt.isna()]\n",
    "    #filter land use type\n",
    "    df = df[df.propertylandusetypeid.isin([261,269,263,264,266,275,260,262,273,274,279,276])]\n",
    "    return df\n",
    "\n",
    "def map_encode_zillow_fips(df):\n",
    "    #map to county names\n",
    "    df['county'] = df.fips.map({6037: 'LosAngeles',6059:'Orange',6111:'Ventura'})\n",
    "    #encode into dummy df\n",
    "    d_df = pd.get_dummies(df['county'],drop_first=True)\n",
    "    #concat dummy df to the rest\n",
    "    df = pd.concat([df,d_df],axis=1)\n",
    "    #Drop fips\n",
    "    df.drop(columns=['fips'],inplace=True)\n",
    "    return df\n",
    "\n",
    "def prep_zillow(df):\n",
    "    '''\n",
    "    This function takes in a zillow dataframe and prepares it for exploratory analysis.\n",
    "    '''\n",
    "    #FILTER down to 'single unit' properties\n",
    "    df = only_single_unit(df)\n",
    "    \n",
    "    #NULLS: filter down null-heavy columns, then drop rows with nulls\n",
    "    df = handle_missing_values(df,prop_req_col=.98,prop_req_row=1)\n",
    "    \n",
    "    #DROP remaining columns I don't want - do geographic columns separately to easily change\n",
    "    drp_cols = ['propertylandusetypeid', 'finishedsquarefeet12', 'structuretaxvaluedollarcnt','calculatedbathnbr',\\\n",
    "                'assessmentyear','landtaxvaluedollarcnt', 'taxamount']\n",
    "    drp_geo_cols = ['regionidcity','regionidcounty', 'regionidzip','rawcensustractandblock','censustractandblock']\n",
    "    df.drop(columns=(drp_cols+drp_geo_cols), inplace=True)\n",
    "#     df.drop(columns=drp_geo_cols, inplace=True)\n",
    "\n",
    "    #CONVERT datatypes\n",
    "    to_int_cols = ['bedroomcnt', 'yearbuilt', 'fullbathcnt', 'latitude', 'longitude','roomcnt','calculatedfinishedsquarefeet']\n",
    "    df[to_int_cols] = df[to_int_cols].astype(int)\n",
    "    \n",
    "    #CONVERT transactiondate\n",
    "    df['trans_month'] = pd.DatetimeIndex(df['transactiondate']).month\n",
    "    df.drop(columns='transactiondate',inplace=True)\n",
    "    \n",
    "    #MOVE parcelid to index\n",
    "    df.set_index('parcelid',drop=True,inplace=True)\n",
    "    \n",
    "    #MAP and ENCODE fips\n",
    "    df = map_encode_zillow_fips(df)\n",
    "    \n",
    "    #TRIM IQR outliers\n",
    "    iqr_trim_cols = ['bedroomcnt','bathroomcnt','calculatedfinishedsquarefeet', 'taxvaluedollarcnt','logerror']\n",
    "    df = utils.handle_iqr_outliers(df,trim=True,include=iqr_trim_cols)\n",
    "    \n",
    "    #RENAME columns\n",
    "    rename_cols = {\n",
    "        'bedroomcnt':'bed',\n",
    "        'bathroomcnt':'bath',\n",
    "        'calculatedfinishedsquarefeet':'sf',\n",
    "        'latitude': 'lat',\n",
    "        'longitude':'lon',\n",
    "        'propertycountylandusecode':'countylanduse',\n",
    "        'propertylandusedesc':'landusedesc',\n",
    "        'taxvaluedollarcnt':'value'\n",
    "    }\n",
    "    df.rename(columns=rename_cols,inplace=True)\n",
    "    \n",
    "    return df    "
   ]
  },
  {
   "cell_type": "code",
   "execution_count": 81,
   "id": "68f6b601",
   "metadata": {},
   "outputs": [
    {
     "name": "stderr",
     "output_type": "stream",
     "text": [
      "/var/folders/dn/dr6y15951wq03xbh2xr9khq40000gn/T/ipykernel_78544/3165471118.py:2: DtypeWarning: Columns (63) have mixed types.Specify dtype option on import or set low_memory=False.\n",
      "  new_df = getZillowData()\n"
     ]
    }
   ],
   "source": [
    "#let's see if all that worked!\n",
    "new_df = getZillowData()\n",
    "new_df = prep_zillow(new_df)"
   ]
  },
  {
   "cell_type": "code",
   "execution_count": 82,
   "id": "2beac737",
   "metadata": {},
   "outputs": [
    {
     "name": "stdout",
     "output_type": "stream",
     "text": [
      "<class 'pandas.core.frame.DataFrame'>\n",
      "Int64Index: 58028 entries, 14297519 to 12826780\n",
      "Data columns (total 17 columns):\n",
      " #   Column         Non-Null Count  Dtype  \n",
      "---  ------         --------------  -----  \n",
      " 0   bath           58028 non-null  float64\n",
      " 1   bed            58028 non-null  int64  \n",
      " 2   calcbath       58028 non-null  float64\n",
      " 3   sf             58028 non-null  int64  \n",
      " 4   fullbathcnt    58028 non-null  int64  \n",
      " 5   lat            58028 non-null  int64  \n",
      " 6   lon            58028 non-null  int64  \n",
      " 7   countylanduse  58028 non-null  object \n",
      " 8   roomcnt        58028 non-null  int64  \n",
      " 9   yearbuilt      58028 non-null  int64  \n",
      " 10  value          58028 non-null  float64\n",
      " 11  logerror       58028 non-null  float64\n",
      " 12  landusedesc    58028 non-null  object \n",
      " 13  trans_month    58028 non-null  int64  \n",
      " 14  county         58028 non-null  object \n",
      " 15  Orange         58028 non-null  uint8  \n",
      " 16  Ventura        58028 non-null  uint8  \n",
      "dtypes: float64(4), int64(8), object(3), uint8(2)\n",
      "memory usage: 7.2+ MB\n"
     ]
    }
   ],
   "source": [
    "new_df.info()"
   ]
  },
  {
   "cell_type": "markdown",
   "id": "51300f85",
   "metadata": {},
   "source": [
    "- Right number of rows >> IQR dropped ~13k rows\n",
    "- appropriate columns remaining\n",
    "- appropriate datatypes\n"
   ]
  },
  {
   "cell_type": "code",
   "execution_count": null,
   "id": "4b74476c",
   "metadata": {},
   "outputs": [],
   "source": [
    "\n",
    "    "
   ]
  }
 ],
 "metadata": {
  "kernelspec": {
   "display_name": "Python 3 (ipykernel)",
   "language": "python",
   "name": "python3"
  },
  "language_info": {
   "codemirror_mode": {
    "name": "ipython",
    "version": 3
   },
   "file_extension": ".py",
   "mimetype": "text/x-python",
   "name": "python",
   "nbconvert_exporter": "python",
   "pygments_lexer": "ipython3",
   "version": "3.9.7"
  }
 },
 "nbformat": 4,
 "nbformat_minor": 5
}
